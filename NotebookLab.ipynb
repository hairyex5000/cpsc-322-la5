{
 "cells": [
  {
   "cell_type": "markdown",
   "id": "9803e65d-2377-4ff9-9023-03e7524993d6",
   "metadata": {},
   "source": [
    "# Task 1\n",
    "LaTeX example\n",
    "$$\\log_2 (a \\times b) = \\log_2 a + \\log_2 b$$\n",
    "$$\\log_2 (a / b) = \\log_2 a - \\log_2 b$$\n",
    "$$\\log_2 (a^n) = n\\times\\log_2 a$$\n",
    "$$\\log_2 (1/a) = -\\log_2 a$$\n",
    "$$\\sum_{i=m}^{i=1}\\sum_{j=n}^{j=1}a_{ij}=\\sum_{j=n}^{j=1}\\sum_{i=m}^{i=1}a_{ij}$$\n",
    "[Amazon Textbook Link](https://www.amazon.com/Principles-Mining-Undergraduate-Computer-Science/dp/1447174925)"
   ]
  },
  {
   "cell_type": "markdown",
   "id": "92ddc035-f5ba-4e18-bc92-191e13e0d31c",
   "metadata": {},
   "source": [
    "# Task 2\n",
    "Formula for average\n",
    "$$\\frac{\\textnormal{sum of a}}{\\textnormal{count of a}}$$\n"
   ]
  },
  {
   "cell_type": "code",
   "execution_count": 1,
   "id": "164f3df9-7101-437c-b4c4-d21a9b4c1f2c",
   "metadata": {},
   "outputs": [
    {
     "name": "stdout",
     "output_type": "stream",
     "text": [
      "53551.17\n",
      "51004.21\n"
     ]
    }
   ],
   "source": [
    "import random\n",
    "\n",
    "def average(nums) -> float:\n",
    "    return sum(nums)/float(len(nums))\n",
    "\n",
    "list1 = [random.randrange(0, 100000) for i in range(100)]\n",
    "list2 = [random.randrange(0, 100000) for i in range(100)]\n",
    "\n",
    "print(average(list1))\n",
    "print(average(list2))"
   ]
  },
  {
   "cell_type": "markdown",
   "id": "fc68c70f-a2bb-45e7-b2c3-681b2374bb5c",
   "metadata": {},
   "source": [
    "# Task 3\n",
    "Image\n",
    "\n",
    "<img src=\"https://devs.lol/uploads/2021/12/meme-dev-humor-for-any-emergency-in-typescript-222.jpg\" width=300 />\n",
    "\n",
    "If you don't want to deal with types in TypeScript sometimes..."
   ]
  }
 ],
 "metadata": {
  "kernelspec": {
   "display_name": "Python 3 (ipykernel)",
   "language": "python",
   "name": "python3"
  },
  "language_info": {
   "codemirror_mode": {
    "name": "ipython",
    "version": 3
   },
   "file_extension": ".py",
   "mimetype": "text/x-python",
   "name": "python",
   "nbconvert_exporter": "python",
   "pygments_lexer": "ipython3",
   "version": "3.12.4"
  },
  "panel-cell-order": [
   "655f3484-88d0-407c-9019-f5fb78bff2e8"
  ]
 },
 "nbformat": 4,
 "nbformat_minor": 5
}
